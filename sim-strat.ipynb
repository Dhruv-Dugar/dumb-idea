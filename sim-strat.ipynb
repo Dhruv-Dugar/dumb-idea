{
 "cells": [
  {
   "cell_type": "code",
   "execution_count": 17,
   "id": "a0394ea6",
   "metadata": {},
   "outputs": [],
   "source": [
    "import numpy as np\n",
    "import matplotlib.pyplot as plt\n",
    "from datetime import date\n",
    "from jugaad_data.nse import full_bhavcopy_raw, bhavcopy_save, stock_df\n",
    "import pandas as pd\n",
    "import random"
   ]
  },
  {
   "cell_type": "markdown",
   "id": "3c4b2b07",
   "metadata": {},
   "source": [
    "Stupid stratergy but throwing darts works. <br>\n",
    "Make a universe with the given CSV from NSE website <br>\n",
    "Select 5/10/20/50 stocks from the list, allocate capital to it, set purchase price at open/day's low and on last trading date of the month sell at close/high <br>\n",
    "\n",
    "Optional: set up charges for STT et al"
   ]
  },
  {
   "cell_type": "code",
   "execution_count": 18,
   "id": "7e7ba3e2",
   "metadata": {},
   "outputs": [],
   "source": [
    "# defining time period for back test:\n",
    "from_date = date(2020, 1, 1)\n",
    "to_date = date(2020, 1, 30)"
   ]
  },
  {
   "cell_type": "code",
   "execution_count": 19,
   "id": "7d951eb1",
   "metadata": {},
   "outputs": [],
   "source": [
    "# import the ind_niftytotalmarket_list csv file, remove all columns apart from Symbol from the same\n",
    "ind_niftytotalmarket_list = pd.read_csv(\"ind_niftytotalmarket_list.csv\")\n",
    "ind_niftytotalmarket_list = ind_niftytotalmarket_list[[\"Symbol\"]]"
   ]
  },
  {
   "cell_type": "code",
   "execution_count": 22,
   "id": "f0f0d54f",
   "metadata": {},
   "outputs": [],
   "source": [
    "# roll a die to select x stocks from the list, after die roll, remove it from the universe and repeat until you have x stocks\n",
    "num_stocks = 5\n",
    "selected_stocks = []\n",
    "while len(selected_stocks) < num_stocks:\n",
    "    die_roll = random.randint(0, len(ind_niftytotalmarket_list) - 1)\n",
    "    selected_stocks.append(ind_niftytotalmarket_list.iloc[die_roll][\"Symbol\"])\n",
    "    ind_niftytotalmarket_list = ind_niftytotalmarket_list.drop(die_roll).reset_index(drop=True)"
   ]
  },
  {
   "cell_type": "code",
   "execution_count": 23,
   "id": "3722581f",
   "metadata": {},
   "outputs": [
    {
     "data": {
      "text/plain": [
       "['JYOTICNC', 'RELIANCE', 'GVT&D', 'INDIACEM', 'GARFIBRES']"
      ]
     },
     "execution_count": 23,
     "metadata": {},
     "output_type": "execute_result"
    }
   ],
   "source": [
    "selected_stocks"
   ]
  },
  {
   "cell_type": "markdown",
   "id": "0df93b38",
   "metadata": {},
   "source": [
    "There is a possibility that the stock did not trade during the time when we have selected for our backtest <br>\n",
    "in this case, we can have a try catch block, if it is able to find data, then only try to purchase in the back test <br>\n",
    "otherwise just get another stock"
   ]
  },
  {
   "cell_type": "code",
   "execution_count": 33,
   "id": "334c6634",
   "metadata": {},
   "outputs": [
    {
     "name": "stdout",
     "output_type": "stream",
     "text": [
      "JYOTICNC did not trade during this period\n"
     ]
    }
   ],
   "source": [
    "# remove the offending stock in this case, and find another stock from ind_niftytotalmarket_list\n",
    "portfolio = {}\n",
    "offending = []\n",
    "for stock in selected_stocks:\n",
    "    try:\n",
    "        df = stock_df(stock, from_date, to_date)\n",
    "        portfolio[stock] = df\n",
    "    except:\n",
    "        offending.append(stock)\n",
    "        print(f\"{stock} did not trade during this period\")"
   ]
  },
  {
   "cell_type": "code",
   "execution_count": 35,
   "id": "0893c443",
   "metadata": {},
   "outputs": [],
   "source": [
    "# remove offending from selected stocks\n",
    "for stock in offending:\n",
    "    selected_stocks.remove(stock)\n",
    "\n",
    "# run the die equal to the count of length of offending stocks and add to selected stocks\n",
    "while len(offending) > 0:\n",
    "    die_roll = random.randint(0, len(ind_niftytotalmarket_list) - 1)\n",
    "    new_stock = ind_niftytotalmarket_list.iloc[die_roll][\"Symbol\"]\n",
    "    if new_stock not in selected_stocks:\n",
    "        selected_stocks.append(new_stock)\n",
    "        ind_niftytotalmarket_list = ind_niftytotalmarket_list.drop(die_roll).reset_index(drop=True)\n",
    "        offending.remove(offending[0])\n",
    "        try:\n",
    "            df = stock_df(new_stock, from_date, to_date)\n",
    "            portfolio[new_stock] = df\n",
    "        except:\n",
    "            offending.append(new_stock)\n",
    "            selected_stocks.remove(new_stock)\n",
    "            print(f\"{new_stock} did not trade during this period\")"
   ]
  },
  {
   "cell_type": "code",
   "execution_count": 36,
   "id": "1c559e10",
   "metadata": {},
   "outputs": [
    {
     "data": {
      "text/plain": [
       "['RELIANCE', 'GVT&D', 'INDIACEM', 'GARFIBRES', 'RAMCOCEM']"
      ]
     },
     "execution_count": 36,
     "metadata": {},
     "output_type": "execute_result"
    }
   ],
   "source": [
    "selected_stocks"
   ]
  },
  {
   "cell_type": "code",
   "execution_count": 38,
   "id": "8df097a3",
   "metadata": {},
   "outputs": [],
   "source": [
    "# buy the stocks at open price on the first trading day of the month\n",
    "# sell the stocks at close price on the last trading day of the month\n",
    "# assume equal allocation of capital to each stock\n",
    "initial_capital = 1000000\n",
    "allocation_per_stock = initial_capital / len(selected_stocks)\n",
    "final_capital = 0\n",
    "for stock in selected_stocks:\n",
    "    df = portfolio[stock]\n",
    "    buy_price = df.iloc[0][\"OPEN\"]\n",
    "    sell_price = df.iloc[-1][\"CLOSE\"]\n",
    "    shares_bought = allocation_per_stock / buy_price\n",
    "    final_capital += shares_bought * sell_price"
   ]
  },
  {
   "cell_type": "code",
   "execution_count": 40,
   "id": "ebd23051",
   "metadata": {},
   "outputs": [
    {
     "name": "stdout",
     "output_type": "stream",
     "text": [
      "Initial Capital: 1000000\n",
      "Final Capital: 902918.9453775499\n",
      "Return: -9.71%\n"
     ]
    }
   ],
   "source": [
    "# performance stats\n",
    "print(f\"Initial Capital: {initial_capital}\")\n",
    "print(f\"Final Capital: {final_capital}\")\n",
    "print(f\"Return: {(final_capital - initial_capital) / initial_capital *100:.2f}%\")"
   ]
  },
  {
   "cell_type": "code",
   "execution_count": null,
   "id": "37681ffa",
   "metadata": {},
   "outputs": [],
   "source": []
  }
 ],
 "metadata": {
  "kernelspec": {
   "display_name": ".venv (3.12.6)",
   "language": "python",
   "name": "python3"
  },
  "language_info": {
   "codemirror_mode": {
    "name": "ipython",
    "version": 3
   },
   "file_extension": ".py",
   "mimetype": "text/x-python",
   "name": "python",
   "nbconvert_exporter": "python",
   "pygments_lexer": "ipython3",
   "version": "3.12.6"
  }
 },
 "nbformat": 4,
 "nbformat_minor": 5
}
